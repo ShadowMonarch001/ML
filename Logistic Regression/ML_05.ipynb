{
  "nbformat": 4,
  "nbformat_minor": 0,
  "metadata": {
    "colab": {
      "provenance": [],
      "authorship_tag": "ABX9TyPU+xMf1QwBE7jhvbLLkFYB",
      "include_colab_link": true
    },
    "kernelspec": {
      "name": "python3",
      "display_name": "Python 3"
    },
    "language_info": {
      "name": "python"
    }
  },
  "cells": [
    {
      "cell_type": "markdown",
      "metadata": {
        "id": "view-in-github",
        "colab_type": "text"
      },
      "source": [
        "<a href=\"https://colab.research.google.com/github/ShadowMonarch001/ML/blob/main/Logistic%20Regression/ML_05.ipynb\" target=\"_parent\"><img src=\"https://colab.research.google.com/assets/colab-badge.svg\" alt=\"Open In Colab\"/></a>"
      ]
    },
    {
      "cell_type": "code",
      "execution_count": null,
      "metadata": {
        "id": "6vq33HEgVNnw"
      },
      "outputs": [],
      "source": [
        "import numpy as np\n",
        "import pandas as pd\n",
        "import math"
      ]
    },
    {
      "cell_type": "code",
      "source": [
        "from sklearn.datasets import make_classification "
      ],
      "metadata": {
        "id": "81npsQ8sWEdr"
      },
      "execution_count": null,
      "outputs": []
    },
    {
      "cell_type": "code",
      "source": [
        "X,y=make_classification(n_features=4,n_classes=2)\n",
        "X1=pd.DataFrame(X,columns=[\"x1\",\"x2\",\"x3\",\"x4\"])\n",
        "y1=pd.DataFrame(y,columns=[\"Y\"])\n",
        "df=pd.concat([X1,y1],axis=1)\n",
        "df.head()"
      ],
      "metadata": {
        "colab": {
          "base_uri": "https://localhost:8080/",
          "height": 206
        },
        "id": "P9mhCgQ8WgoE",
        "outputId": "e8141b3c-b6aa-49b9-a440-8ff1122c10da"
      },
      "execution_count": null,
      "outputs": [
        {
          "output_type": "execute_result",
          "data": {
            "text/plain": [
              "         x1        x2        x3        x4  Y\n",
              "0 -0.741311 -0.602398 -0.650883  0.834300  0\n",
              "1  1.005850 -1.362073 -1.715488  1.772344  1\n",
              "2 -0.850528  0.940985  1.199288 -1.217800  0\n",
              "3  0.897549 -1.004169 -1.278899  1.299999  1\n",
              "4 -1.116272  0.859737  1.126567 -1.098223  0"
            ],
            "text/html": [
              "\n",
              "  <div id=\"df-cdbabbf1-7a7c-412b-aaac-e974017cce10\">\n",
              "    <div class=\"colab-df-container\">\n",
              "      <div>\n",
              "<style scoped>\n",
              "    .dataframe tbody tr th:only-of-type {\n",
              "        vertical-align: middle;\n",
              "    }\n",
              "\n",
              "    .dataframe tbody tr th {\n",
              "        vertical-align: top;\n",
              "    }\n",
              "\n",
              "    .dataframe thead th {\n",
              "        text-align: right;\n",
              "    }\n",
              "</style>\n",
              "<table border=\"1\" class=\"dataframe\">\n",
              "  <thead>\n",
              "    <tr style=\"text-align: right;\">\n",
              "      <th></th>\n",
              "      <th>x1</th>\n",
              "      <th>x2</th>\n",
              "      <th>x3</th>\n",
              "      <th>x4</th>\n",
              "      <th>Y</th>\n",
              "    </tr>\n",
              "  </thead>\n",
              "  <tbody>\n",
              "    <tr>\n",
              "      <th>0</th>\n",
              "      <td>-0.741311</td>\n",
              "      <td>-0.602398</td>\n",
              "      <td>-0.650883</td>\n",
              "      <td>0.834300</td>\n",
              "      <td>0</td>\n",
              "    </tr>\n",
              "    <tr>\n",
              "      <th>1</th>\n",
              "      <td>1.005850</td>\n",
              "      <td>-1.362073</td>\n",
              "      <td>-1.715488</td>\n",
              "      <td>1.772344</td>\n",
              "      <td>1</td>\n",
              "    </tr>\n",
              "    <tr>\n",
              "      <th>2</th>\n",
              "      <td>-0.850528</td>\n",
              "      <td>0.940985</td>\n",
              "      <td>1.199288</td>\n",
              "      <td>-1.217800</td>\n",
              "      <td>0</td>\n",
              "    </tr>\n",
              "    <tr>\n",
              "      <th>3</th>\n",
              "      <td>0.897549</td>\n",
              "      <td>-1.004169</td>\n",
              "      <td>-1.278899</td>\n",
              "      <td>1.299999</td>\n",
              "      <td>1</td>\n",
              "    </tr>\n",
              "    <tr>\n",
              "      <th>4</th>\n",
              "      <td>-1.116272</td>\n",
              "      <td>0.859737</td>\n",
              "      <td>1.126567</td>\n",
              "      <td>-1.098223</td>\n",
              "      <td>0</td>\n",
              "    </tr>\n",
              "  </tbody>\n",
              "</table>\n",
              "</div>\n",
              "      <button class=\"colab-df-convert\" onclick=\"convertToInteractive('df-cdbabbf1-7a7c-412b-aaac-e974017cce10')\"\n",
              "              title=\"Convert this dataframe to an interactive table.\"\n",
              "              style=\"display:none;\">\n",
              "        \n",
              "  <svg xmlns=\"http://www.w3.org/2000/svg\" height=\"24px\"viewBox=\"0 0 24 24\"\n",
              "       width=\"24px\">\n",
              "    <path d=\"M0 0h24v24H0V0z\" fill=\"none\"/>\n",
              "    <path d=\"M18.56 5.44l.94 2.06.94-2.06 2.06-.94-2.06-.94-.94-2.06-.94 2.06-2.06.94zm-11 1L8.5 8.5l.94-2.06 2.06-.94-2.06-.94L8.5 2.5l-.94 2.06-2.06.94zm10 10l.94 2.06.94-2.06 2.06-.94-2.06-.94-.94-2.06-.94 2.06-2.06.94z\"/><path d=\"M17.41 7.96l-1.37-1.37c-.4-.4-.92-.59-1.43-.59-.52 0-1.04.2-1.43.59L10.3 9.45l-7.72 7.72c-.78.78-.78 2.05 0 2.83L4 21.41c.39.39.9.59 1.41.59.51 0 1.02-.2 1.41-.59l7.78-7.78 2.81-2.81c.8-.78.8-2.07 0-2.86zM5.41 20L4 18.59l7.72-7.72 1.47 1.35L5.41 20z\"/>\n",
              "  </svg>\n",
              "      </button>\n",
              "      \n",
              "  <style>\n",
              "    .colab-df-container {\n",
              "      display:flex;\n",
              "      flex-wrap:wrap;\n",
              "      gap: 12px;\n",
              "    }\n",
              "\n",
              "    .colab-df-convert {\n",
              "      background-color: #E8F0FE;\n",
              "      border: none;\n",
              "      border-radius: 50%;\n",
              "      cursor: pointer;\n",
              "      display: none;\n",
              "      fill: #1967D2;\n",
              "      height: 32px;\n",
              "      padding: 0 0 0 0;\n",
              "      width: 32px;\n",
              "    }\n",
              "\n",
              "    .colab-df-convert:hover {\n",
              "      background-color: #E2EBFA;\n",
              "      box-shadow: 0px 1px 2px rgba(60, 64, 67, 0.3), 0px 1px 3px 1px rgba(60, 64, 67, 0.15);\n",
              "      fill: #174EA6;\n",
              "    }\n",
              "\n",
              "    [theme=dark] .colab-df-convert {\n",
              "      background-color: #3B4455;\n",
              "      fill: #D2E3FC;\n",
              "    }\n",
              "\n",
              "    [theme=dark] .colab-df-convert:hover {\n",
              "      background-color: #434B5C;\n",
              "      box-shadow: 0px 1px 3px 1px rgba(0, 0, 0, 0.15);\n",
              "      filter: drop-shadow(0px 1px 2px rgba(0, 0, 0, 0.3));\n",
              "      fill: #FFFFFF;\n",
              "    }\n",
              "  </style>\n",
              "\n",
              "      <script>\n",
              "        const buttonEl =\n",
              "          document.querySelector('#df-cdbabbf1-7a7c-412b-aaac-e974017cce10 button.colab-df-convert');\n",
              "        buttonEl.style.display =\n",
              "          google.colab.kernel.accessAllowed ? 'block' : 'none';\n",
              "\n",
              "        async function convertToInteractive(key) {\n",
              "          const element = document.querySelector('#df-cdbabbf1-7a7c-412b-aaac-e974017cce10');\n",
              "          const dataTable =\n",
              "            await google.colab.kernel.invokeFunction('convertToInteractive',\n",
              "                                                     [key], {});\n",
              "          if (!dataTable) return;\n",
              "\n",
              "          const docLinkHtml = 'Like what you see? Visit the ' +\n",
              "            '<a target=\"_blank\" href=https://colab.research.google.com/notebooks/data_table.ipynb>data table notebook</a>'\n",
              "            + ' to learn more about interactive tables.';\n",
              "          element.innerHTML = '';\n",
              "          dataTable['output_type'] = 'display_data';\n",
              "          await google.colab.output.renderOutput(dataTable, element);\n",
              "          const docLink = document.createElement('div');\n",
              "          docLink.innerHTML = docLinkHtml;\n",
              "          element.appendChild(docLink);\n",
              "        }\n",
              "      </script>\n",
              "    </div>\n",
              "  </div>\n",
              "  "
            ]
          },
          "metadata": {},
          "execution_count": 71
        }
      ]
    },
    {
      "cell_type": "code",
      "source": [
        "from sklearn.model_selection import train_test_split\n",
        "X_train, X_test, y_train, y_test = train_test_split(X, y, test_size =0.1, random_state = 1 )"
      ],
      "metadata": {
        "id": "DhMJI2leW7Vb"
      },
      "execution_count": null,
      "outputs": []
    },
    {
      "cell_type": "code",
      "source": [
        "from sklearn.preprocessing import StandardScaler\n",
        "scaler = StandardScaler()\n",
        "scaler.fit(X_train)\n",
        "X_train_s=scaler.transform(X_train)\n",
        "X_test_s=scaler.transform(X_test)"
      ],
      "metadata": {
        "id": "i9cIowoKXYKD"
      },
      "execution_count": null,
      "outputs": []
    },
    {
      "cell_type": "code",
      "source": [
        "import numpy as np\n",
        "\n",
        "class LogisticRegression:\n",
        "    def __init__(self):\n",
        "        self.weights = None\n",
        "\n",
        "    def sigmoid(self, z):\n",
        "        return 1 / (1 + np.exp(-z))\n",
        "\n",
        "    def cost(self, X, y, theta):\n",
        "        n_samples, n_features = X.shape\n",
        "        y_pred = self.sigmoid(np.dot(X, theta))\n",
        "        cost = (-1 / n_samples) * np.sum(y * np.log(y_pred) + (1 - y) * np.log(1 - y_pred))\n",
        "        return cost\n",
        "\n",
        "    def fit(self, X, y, alpha=0.01, epochs=1000, batch_size=32):\n",
        "        n_samples, n_features = X.shape\n",
        "        self.weights = np.zeros(n_features)\n",
        "\n",
        "        n_batches = n_samples // batch_size\n",
        "\n",
        "        cost_list = []\n",
        "        for epoch in range(epochs):\n",
        "            for i in range(n_batches):\n",
        "                X_batch = X[i * batch_size : (i + 1) * batch_size]\n",
        "                y_batch = y[i * batch_size : (i + 1) * batch_size]\n",
        "\n",
        "                y_pred = self.sigmoid(np.dot(X_batch, self.weights))\n",
        "\n",
        "                gradient = np.dot(X_batch.T, (y_pred - y_batch)) / batch_size\n",
        "\n",
        "                self.weights -= alpha * gradient\n",
        "\n",
        "            cost = self.cost(X, y, self.weights)\n",
        "            cost_list.append(cost)\n",
        "\n",
        "        return cost_list, self.weights\n",
        "\n",
        "    def predict(self, X):\n",
        "        y_pred = self.sigmoid(np.dot(X, self.weights))\n",
        "        y_pred_class = [1 if i > 0.5 else 0 for i in y_pred]\n",
        "        return y_pred_class\n"
      ],
      "metadata": {
        "id": "20pCTDK9X-Hr"
      },
      "execution_count": null,
      "outputs": []
    },
    {
      "cell_type": "code",
      "source": [
        "lr = LogisticRegression()\n",
        "costs, weights = lr.fit(X_train_s, y_train, alpha=0.01, epochs=1000, batch_size=32)\n",
        "\n"
      ],
      "metadata": {
        "id": "bKfmY0HUbuzW"
      },
      "execution_count": null,
      "outputs": []
    },
    {
      "cell_type": "code",
      "source": [
        "y_pred = lr.predict(X_test)"
      ],
      "metadata": {
        "id": "c57WXW7prxS6"
      },
      "execution_count": null,
      "outputs": []
    },
    {
      "cell_type": "code",
      "source": [
        "from sklearn.metrics import accuracy_score,classification_report"
      ],
      "metadata": {
        "id": "DQHMr4MbvwgQ"
      },
      "execution_count": null,
      "outputs": []
    },
    {
      "cell_type": "code",
      "source": [
        "print(f\"testing accuracy = {accuracy_score(y_test,y_pred)}\")"
      ],
      "metadata": {
        "colab": {
          "base_uri": "https://localhost:8080/"
        },
        "id": "SFeSB4LwwsTf",
        "outputId": "401ef840-f5ea-4d37-d822-d7f721b2c3a1"
      },
      "execution_count": null,
      "outputs": [
        {
          "output_type": "stream",
          "name": "stdout",
          "text": [
            "testing accuracy = 0.9\n"
          ]
        }
      ]
    },
    {
      "cell_type": "code",
      "source": [
        "print(classification_report(y_test,y_pred))"
      ],
      "metadata": {
        "colab": {
          "base_uri": "https://localhost:8080/"
        },
        "id": "-otqKnQzw5ZH",
        "outputId": "626cd601-b415-4713-e3b8-d72f9921908b"
      },
      "execution_count": null,
      "outputs": [
        {
          "output_type": "stream",
          "name": "stdout",
          "text": [
            "              precision    recall  f1-score   support\n",
            "\n",
            "           0       1.00      0.83      0.91         6\n",
            "           1       0.80      1.00      0.89         4\n",
            "\n",
            "    accuracy                           0.90        10\n",
            "   macro avg       0.90      0.92      0.90        10\n",
            "weighted avg       0.92      0.90      0.90        10\n",
            "\n"
          ]
        }
      ]
    },
    {
      "cell_type": "code",
      "source": [
        "from sklearn.linear_model import LogisticRegression\n",
        "lr = LogisticRegression()\n",
        "lr.fit(X_train_s, y_train)\n",
        "y_pred = lr.predict(X_test_s)\n",
        "accuracy = accuracy_score(y_test, y_pred)\n",
        "print(\"Accuracy:\", accuracy)\n",
        "\n"
      ],
      "metadata": {
        "colab": {
          "base_uri": "https://localhost:8080/"
        },
        "id": "mv4t7PncxLuu",
        "outputId": "55f7f430-cfe9-40cf-d629-9d0e8e6d04c6"
      },
      "execution_count": null,
      "outputs": [
        {
          "output_type": "stream",
          "name": "stdout",
          "text": [
            "Accuracy: 0.9\n"
          ]
        }
      ]
    },
    {
      "cell_type": "code",
      "source": [
        "lr_l1 = LogisticRegression(random_state=42, solver='saga', penalty='l1', max_iter=10000)\n",
        "lr_l1.fit(X_train_s, y_train)\n",
        "y_pred_l1 = lr_l1.predict(X_test)\n",
        "print(\"Accuracy score with L1 (Lasso) regularization:\", accuracy_score(y_test, y_pred_l1))\n",
        "\n",
        "lr_l2 = LogisticRegression(random_state=42, solver='lbfgs', penalty='l2', max_iter=10000)\n",
        "lr_l2.fit(X_train_s, y_train)\n",
        "y_pred_l2 = lr_l2.predict(X_test)\n",
        "print(\"Accuracy score with L2 (Ridge) regularization:\", accuracy_score(y_test, y_pred_l2))"
      ],
      "metadata": {
        "colab": {
          "base_uri": "https://localhost:8080/"
        },
        "id": "2kx0FmlayZqM",
        "outputId": "8f573caf-ff09-4aca-d87f-72d6bacfcfbb"
      },
      "execution_count": null,
      "outputs": [
        {
          "output_type": "stream",
          "name": "stdout",
          "text": [
            "Accuracy score with L1 (Lasso) regularization: 0.9\n",
            "Accuracy score with L2 (Ridge) regularization: 0.9\n"
          ]
        }
      ]
    },
    {
      "cell_type": "code",
      "source": [],
      "metadata": {
        "id": "ouflFsF-zFMI"
      },
      "execution_count": null,
      "outputs": []
    }
  ]
}