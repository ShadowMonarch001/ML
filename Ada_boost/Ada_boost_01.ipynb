{
  "nbformat": 4,
  "nbformat_minor": 0,
  "metadata": {
    "colab": {
      "provenance": [],
      "authorship_tag": "ABX9TyPnvOCL4adkAaP+8xHXoZn9",
      "include_colab_link": true
    },
    "kernelspec": {
      "name": "python3",
      "display_name": "Python 3"
    },
    "language_info": {
      "name": "python"
    }
  },
  "cells": [
    {
      "cell_type": "markdown",
      "metadata": {
        "id": "view-in-github",
        "colab_type": "text"
      },
      "source": [
        "<a href=\"https://colab.research.google.com/github/ShadowMonarch001/ML/blob/main/Ada_boost/Ada_boost_01.ipynb\" target=\"_parent\"><img src=\"https://colab.research.google.com/assets/colab-badge.svg\" alt=\"Open In Colab\"/></a>"
      ]
    },
    {
      "cell_type": "code",
      "execution_count": null,
      "metadata": {
        "id": "tpxHz-1BZMiE"
      },
      "outputs": [],
      "source": [
        "import pandas as pd\n",
        "import numpy as np"
      ]
    },
    {
      "cell_type": "code",
      "source": [
        "from sklearn.datasets import make_classification "
      ],
      "metadata": {
        "id": "A9Dy4_I2bTE1"
      },
      "execution_count": null,
      "outputs": []
    },
    {
      "cell_type": "code",
      "source": [
        "X,y=make_classification(n_features=4,n_classes=2)\n",
        "X1=pd.DataFrame(X,columns=[\"x1\",\"x2\",\"x3\",\"x4\"])\n",
        "y1=pd.DataFrame(y,columns=[\"Y\"])\n",
        "df=pd.concat([X1,y1],axis=1)\n",
        "df.head()"
      ],
      "metadata": {
        "colab": {
          "base_uri": "https://localhost:8080/",
          "height": 206
        },
        "id": "Bnmy2MX8ZrTq",
        "outputId": "914ac75a-52ed-4721-d0fa-179377e431b1"
      },
      "execution_count": null,
      "outputs": [
        {
          "output_type": "execute_result",
          "data": {
            "text/plain": [
              "         x1        x2        x3        x4  Y\n",
              "0  0.625197  0.419166  0.098075  1.296126  1\n",
              "1 -1.133426  2.537898 -1.772126 -0.437820  1\n",
              "2  0.990781  0.313016  0.325239  1.850390  1\n",
              "3 -0.219033 -1.184895  0.467482 -1.055904  0\n",
              "4  0.893982 -1.056611  0.940825  0.893282  0"
            ],
            "text/html": [
              "\n",
              "  <div id=\"df-f8fb4e8d-5613-49df-b86d-5f0876668f7a\">\n",
              "    <div class=\"colab-df-container\">\n",
              "      <div>\n",
              "<style scoped>\n",
              "    .dataframe tbody tr th:only-of-type {\n",
              "        vertical-align: middle;\n",
              "    }\n",
              "\n",
              "    .dataframe tbody tr th {\n",
              "        vertical-align: top;\n",
              "    }\n",
              "\n",
              "    .dataframe thead th {\n",
              "        text-align: right;\n",
              "    }\n",
              "</style>\n",
              "<table border=\"1\" class=\"dataframe\">\n",
              "  <thead>\n",
              "    <tr style=\"text-align: right;\">\n",
              "      <th></th>\n",
              "      <th>x1</th>\n",
              "      <th>x2</th>\n",
              "      <th>x3</th>\n",
              "      <th>x4</th>\n",
              "      <th>Y</th>\n",
              "    </tr>\n",
              "  </thead>\n",
              "  <tbody>\n",
              "    <tr>\n",
              "      <th>0</th>\n",
              "      <td>0.625197</td>\n",
              "      <td>0.419166</td>\n",
              "      <td>0.098075</td>\n",
              "      <td>1.296126</td>\n",
              "      <td>1</td>\n",
              "    </tr>\n",
              "    <tr>\n",
              "      <th>1</th>\n",
              "      <td>-1.133426</td>\n",
              "      <td>2.537898</td>\n",
              "      <td>-1.772126</td>\n",
              "      <td>-0.437820</td>\n",
              "      <td>1</td>\n",
              "    </tr>\n",
              "    <tr>\n",
              "      <th>2</th>\n",
              "      <td>0.990781</td>\n",
              "      <td>0.313016</td>\n",
              "      <td>0.325239</td>\n",
              "      <td>1.850390</td>\n",
              "      <td>1</td>\n",
              "    </tr>\n",
              "    <tr>\n",
              "      <th>3</th>\n",
              "      <td>-0.219033</td>\n",
              "      <td>-1.184895</td>\n",
              "      <td>0.467482</td>\n",
              "      <td>-1.055904</td>\n",
              "      <td>0</td>\n",
              "    </tr>\n",
              "    <tr>\n",
              "      <th>4</th>\n",
              "      <td>0.893982</td>\n",
              "      <td>-1.056611</td>\n",
              "      <td>0.940825</td>\n",
              "      <td>0.893282</td>\n",
              "      <td>0</td>\n",
              "    </tr>\n",
              "  </tbody>\n",
              "</table>\n",
              "</div>\n",
              "      <button class=\"colab-df-convert\" onclick=\"convertToInteractive('df-f8fb4e8d-5613-49df-b86d-5f0876668f7a')\"\n",
              "              title=\"Convert this dataframe to an interactive table.\"\n",
              "              style=\"display:none;\">\n",
              "        \n",
              "  <svg xmlns=\"http://www.w3.org/2000/svg\" height=\"24px\"viewBox=\"0 0 24 24\"\n",
              "       width=\"24px\">\n",
              "    <path d=\"M0 0h24v24H0V0z\" fill=\"none\"/>\n",
              "    <path d=\"M18.56 5.44l.94 2.06.94-2.06 2.06-.94-2.06-.94-.94-2.06-.94 2.06-2.06.94zm-11 1L8.5 8.5l.94-2.06 2.06-.94-2.06-.94L8.5 2.5l-.94 2.06-2.06.94zm10 10l.94 2.06.94-2.06 2.06-.94-2.06-.94-.94-2.06-.94 2.06-2.06.94z\"/><path d=\"M17.41 7.96l-1.37-1.37c-.4-.4-.92-.59-1.43-.59-.52 0-1.04.2-1.43.59L10.3 9.45l-7.72 7.72c-.78.78-.78 2.05 0 2.83L4 21.41c.39.39.9.59 1.41.59.51 0 1.02-.2 1.41-.59l7.78-7.78 2.81-2.81c.8-.78.8-2.07 0-2.86zM5.41 20L4 18.59l7.72-7.72 1.47 1.35L5.41 20z\"/>\n",
              "  </svg>\n",
              "      </button>\n",
              "      \n",
              "  <style>\n",
              "    .colab-df-container {\n",
              "      display:flex;\n",
              "      flex-wrap:wrap;\n",
              "      gap: 12px;\n",
              "    }\n",
              "\n",
              "    .colab-df-convert {\n",
              "      background-color: #E8F0FE;\n",
              "      border: none;\n",
              "      border-radius: 50%;\n",
              "      cursor: pointer;\n",
              "      display: none;\n",
              "      fill: #1967D2;\n",
              "      height: 32px;\n",
              "      padding: 0 0 0 0;\n",
              "      width: 32px;\n",
              "    }\n",
              "\n",
              "    .colab-df-convert:hover {\n",
              "      background-color: #E2EBFA;\n",
              "      box-shadow: 0px 1px 2px rgba(60, 64, 67, 0.3), 0px 1px 3px 1px rgba(60, 64, 67, 0.15);\n",
              "      fill: #174EA6;\n",
              "    }\n",
              "\n",
              "    [theme=dark] .colab-df-convert {\n",
              "      background-color: #3B4455;\n",
              "      fill: #D2E3FC;\n",
              "    }\n",
              "\n",
              "    [theme=dark] .colab-df-convert:hover {\n",
              "      background-color: #434B5C;\n",
              "      box-shadow: 0px 1px 3px 1px rgba(0, 0, 0, 0.15);\n",
              "      filter: drop-shadow(0px 1px 2px rgba(0, 0, 0, 0.3));\n",
              "      fill: #FFFFFF;\n",
              "    }\n",
              "  </style>\n",
              "\n",
              "      <script>\n",
              "        const buttonEl =\n",
              "          document.querySelector('#df-f8fb4e8d-5613-49df-b86d-5f0876668f7a button.colab-df-convert');\n",
              "        buttonEl.style.display =\n",
              "          google.colab.kernel.accessAllowed ? 'block' : 'none';\n",
              "\n",
              "        async function convertToInteractive(key) {\n",
              "          const element = document.querySelector('#df-f8fb4e8d-5613-49df-b86d-5f0876668f7a');\n",
              "          const dataTable =\n",
              "            await google.colab.kernel.invokeFunction('convertToInteractive',\n",
              "                                                     [key], {});\n",
              "          if (!dataTable) return;\n",
              "\n",
              "          const docLinkHtml = 'Like what you see? Visit the ' +\n",
              "            '<a target=\"_blank\" href=https://colab.research.google.com/notebooks/data_table.ipynb>data table notebook</a>'\n",
              "            + ' to learn more about interactive tables.';\n",
              "          element.innerHTML = '';\n",
              "          dataTable['output_type'] = 'display_data';\n",
              "          await google.colab.output.renderOutput(dataTable, element);\n",
              "          const docLink = document.createElement('div');\n",
              "          docLink.innerHTML = docLinkHtml;\n",
              "          element.appendChild(docLink);\n",
              "        }\n",
              "      </script>\n",
              "    </div>\n",
              "  </div>\n",
              "  "
            ]
          },
          "metadata": {},
          "execution_count": 106
        }
      ]
    },
    {
      "cell_type": "code",
      "source": [
        "from sklearn.model_selection import train_test_split\n",
        "X_train, X_test, y_train, y_test = train_test_split(X, y, test_size =0.2, random_state = 1 )"
      ],
      "metadata": {
        "id": "yT_ndXYma4rx"
      },
      "execution_count": null,
      "outputs": []
    },
    {
      "cell_type": "code",
      "source": [
        "from sklearn.ensemble import AdaBoostClassifier\n",
        "clf = AdaBoostClassifier(n_estimators=100, random_state=0)"
      ],
      "metadata": {
        "id": "CLY4oX_lccuT"
      },
      "execution_count": null,
      "outputs": []
    },
    {
      "cell_type": "code",
      "source": [
        "clf.fit(X_train, y_train)\n",
        "y_pred = clf.predict(X_test)"
      ],
      "metadata": {
        "id": "7L_8n0WZcvRK"
      },
      "execution_count": null,
      "outputs": []
    },
    {
      "cell_type": "code",
      "source": [
        "from sklearn.metrics import accuracy_score,classification_report\n",
        "accuracy = accuracy_score(y_test, y_pred)\n",
        "print(\"Accuracy:\", accuracy)"
      ],
      "metadata": {
        "colab": {
          "base_uri": "https://localhost:8080/"
        },
        "id": "K3ArHl7nc94J",
        "outputId": "16f82fbc-3522-440f-b173-966e8070cecd"
      },
      "execution_count": null,
      "outputs": [
        {
          "output_type": "stream",
          "name": "stdout",
          "text": [
            "Accuracy: 0.95\n"
          ]
        }
      ]
    },
    {
      "cell_type": "markdown",
      "source": [
        "**K  fold cross validation using Logistic regression**"
      ],
      "metadata": {
        "id": "0OEhcCXTml3D"
      }
    },
    {
      "cell_type": "code",
      "source": [
        "X1=pd.DataFrame(X,columns=[\"x1\",\"x2\",\"x3\",\"x4\"])\n",
        "y1=pd.DataFrame(y,columns=[\"Y\"])"
      ],
      "metadata": {
        "id": "jZJbggHohlnH"
      },
      "execution_count": null,
      "outputs": []
    },
    {
      "cell_type": "code",
      "source": [
        "from sklearn.model_selection import KFold  \n",
        "k=5\n",
        "k_fold = KFold(n_splits = k, random_state = None)  \n",
        "acc_scores = []  "
      ],
      "metadata": {
        "id": "3BAXGFlGicap"
      },
      "execution_count": null,
      "outputs": []
    },
    {
      "cell_type": "code",
      "source": [
        "from sklearn.linear_model import LogisticRegression\n",
        "Lr = LogisticRegression()\n",
        "for training_index, testing_index in k_fold.split(X):  \n",
        "    X_train, X_test = X1.iloc[training_index,:], X1.iloc[testing_index,:]  \n",
        "    y_train, y_test = y1.iloc[training_index] , y1.iloc[testing_index]  \n",
        "    Lr.fit(X_train,y_train)\n",
        "    y_pred = Lr.predict(X_test)\n",
        "    acc = accuracy_score(y_pred , y_test)  \n",
        "    acc_scores.append(acc)  \n"
      ],
      "metadata": {
        "colab": {
          "base_uri": "https://localhost:8080/"
        },
        "id": "jOe_1GPLjqeT",
        "outputId": "5de5859f-8b3a-4e1c-8a46-a65c1ba42724"
      },
      "execution_count": null,
      "outputs": [
        {
          "output_type": "stream",
          "name": "stderr",
          "text": [
            "/usr/local/lib/python3.9/dist-packages/sklearn/utils/validation.py:1143: DataConversionWarning: A column-vector y was passed when a 1d array was expected. Please change the shape of y to (n_samples, ), for example using ravel().\n",
            "  y = column_or_1d(y, warn=True)\n",
            "/usr/local/lib/python3.9/dist-packages/sklearn/utils/validation.py:1143: DataConversionWarning: A column-vector y was passed when a 1d array was expected. Please change the shape of y to (n_samples, ), for example using ravel().\n",
            "  y = column_or_1d(y, warn=True)\n",
            "/usr/local/lib/python3.9/dist-packages/sklearn/utils/validation.py:1143: DataConversionWarning: A column-vector y was passed when a 1d array was expected. Please change the shape of y to (n_samples, ), for example using ravel().\n",
            "  y = column_or_1d(y, warn=True)\n",
            "/usr/local/lib/python3.9/dist-packages/sklearn/utils/validation.py:1143: DataConversionWarning: A column-vector y was passed when a 1d array was expected. Please change the shape of y to (n_samples, ), for example using ravel().\n",
            "  y = column_or_1d(y, warn=True)\n",
            "/usr/local/lib/python3.9/dist-packages/sklearn/utils/validation.py:1143: DataConversionWarning: A column-vector y was passed when a 1d array was expected. Please change the shape of y to (n_samples, ), for example using ravel().\n",
            "  y = column_or_1d(y, warn=True)\n"
          ]
        }
      ]
    },
    {
      "cell_type": "code",
      "source": [
        "mean_acc_score = sum(acc_scores) / k  \n",
        "   \n",
        "print(\"Accuracy score of each fold: \", acc_scores)  \n",
        "print(\"Mean accuracy score: \", mean_acc_score)  "
      ],
      "metadata": {
        "colab": {
          "base_uri": "https://localhost:8080/"
        },
        "id": "wLsR2249kjxj",
        "outputId": "23c71f35-b15b-4178-9e9b-2f501da83a8a"
      },
      "execution_count": null,
      "outputs": [
        {
          "output_type": "stream",
          "name": "stdout",
          "text": [
            "Accuracy score of each fold:  [0.9, 0.85, 1.0, 0.95, 1.0]\n",
            "Mean accuracy score:  0.9400000000000001\n"
          ]
        }
      ]
    },
    {
      "cell_type": "markdown",
      "source": [
        "**K fold cross validation  using Decision Tree**"
      ],
      "metadata": {
        "id": "Smzqhc1qnuhg"
      }
    },
    {
      "cell_type": "code",
      "source": [
        "from sklearn.model_selection import KFold  \n",
        "k=5\n",
        "k_fold = KFold(n_splits = k, random_state = None)  \n",
        "acc_scores = []  \n",
        "from sklearn import tree\n",
        "dt = tree.DecisionTreeClassifier()\n",
        "for training_index, testing_index in k_fold.split(X):  \n",
        "    X_train, X_test = X1.iloc[training_index,:], X1.iloc[testing_index,:]  \n",
        "    y_train, y_test = y1.iloc[training_index] , y1.iloc[testing_index]  \n",
        "    dt.fit(X_train,y_train)\n",
        "    y_pred = dt.predict(X_test)\n",
        "    acc = accuracy_score(y_pred , y_test)  \n",
        "    acc_scores.append(acc)  \n",
        "mean_acc_score = sum(acc_scores) / k  \n",
        "   \n",
        "print(\"Accuracy score of each fold: \", acc_scores)  \n",
        "print(\"Mean accuracy score: \", mean_acc_score)  \n"
      ],
      "metadata": {
        "colab": {
          "base_uri": "https://localhost:8080/"
        },
        "id": "8HDQBiQFmPbI",
        "outputId": "731af6f2-ea46-4140-804d-476ea0f23db9"
      },
      "execution_count": null,
      "outputs": [
        {
          "output_type": "stream",
          "name": "stdout",
          "text": [
            "Accuracy score of each fold:  [0.9, 0.85, 1.0, 0.9, 0.85]\n",
            "Mean accuracy score:  0.9\n"
          ]
        }
      ]
    },
    {
      "cell_type": "code",
      "source": [
        "ada_dt = AdaBoostClassifier(estimator = dt)"
      ],
      "metadata": {
        "id": "sNprCpbfnBM7"
      },
      "execution_count": null,
      "outputs": []
    },
    {
      "cell_type": "markdown",
      "source": [
        "**Ada Boost base estimator decision tree**"
      ],
      "metadata": {
        "id": "qZ3BuuL9q5ud"
      }
    },
    {
      "cell_type": "code",
      "source": [
        "from sklearn.model_selection import KFold  \n",
        "k=5\n",
        "k_fold = KFold(n_splits = k, random_state = None)  \n",
        "acc_scores = []  \n",
        "from sklearn import tree\n",
        "ada_dt = AdaBoostClassifier(estimator = dt)\n",
        "for training_index, testing_index in k_fold.split(X):  \n",
        "    X_train, X_test = X1.iloc[training_index,:], X1.iloc[testing_index,:]  \n",
        "    y_train, y_test = y1.iloc[training_index] , y1.iloc[testing_index]  \n",
        "    ada_dt.fit(X_train,y_train)\n",
        "    y_pred = ada_dt.predict(X_test)\n",
        "    acc = accuracy_score(y_pred , y_test)  \n",
        "    acc_scores.append(acc)  \n",
        "mean_acc_score = sum(acc_scores) / k  \n",
        "   \n",
        "print(\"Accuracy score of each fold: \", acc_scores)  \n",
        "print(\"Mean accuracy score: \", mean_acc_score)  "
      ],
      "metadata": {
        "colab": {
          "base_uri": "https://localhost:8080/"
        },
        "id": "E-Nd9joPqWvz",
        "outputId": "a813c513-2be6-4d92-d776-3c68c37c50f0"
      },
      "execution_count": null,
      "outputs": [
        {
          "output_type": "stream",
          "name": "stdout",
          "text": [
            "Accuracy score of each fold:  [0.9, 0.85, 1.0, 0.9, 0.9]\n",
            "Mean accuracy score:  0.9099999999999999\n"
          ]
        },
        {
          "output_type": "stream",
          "name": "stderr",
          "text": [
            "/usr/local/lib/python3.9/dist-packages/sklearn/utils/validation.py:1143: DataConversionWarning: A column-vector y was passed when a 1d array was expected. Please change the shape of y to (n_samples, ), for example using ravel().\n",
            "  y = column_or_1d(y, warn=True)\n",
            "/usr/local/lib/python3.9/dist-packages/sklearn/utils/validation.py:1143: DataConversionWarning: A column-vector y was passed when a 1d array was expected. Please change the shape of y to (n_samples, ), for example using ravel().\n",
            "  y = column_or_1d(y, warn=True)\n",
            "/usr/local/lib/python3.9/dist-packages/sklearn/utils/validation.py:1143: DataConversionWarning: A column-vector y was passed when a 1d array was expected. Please change the shape of y to (n_samples, ), for example using ravel().\n",
            "  y = column_or_1d(y, warn=True)\n",
            "/usr/local/lib/python3.9/dist-packages/sklearn/utils/validation.py:1143: DataConversionWarning: A column-vector y was passed when a 1d array was expected. Please change the shape of y to (n_samples, ), for example using ravel().\n",
            "  y = column_or_1d(y, warn=True)\n",
            "/usr/local/lib/python3.9/dist-packages/sklearn/utils/validation.py:1143: DataConversionWarning: A column-vector y was passed when a 1d array was expected. Please change the shape of y to (n_samples, ), for example using ravel().\n",
            "  y = column_or_1d(y, warn=True)\n"
          ]
        }
      ]
    },
    {
      "cell_type": "markdown",
      "source": [
        "**Ada Boost base estimator Logistic Regression**"
      ],
      "metadata": {
        "id": "wqCy5gTirC59"
      }
    },
    {
      "cell_type": "code",
      "source": [
        "from sklearn.model_selection import KFold  \n",
        "k=5\n",
        "k_fold = KFold(n_splits = k, random_state = None)  \n",
        "acc_scores = []  \n",
        "from sklearn import tree\n",
        "ada_lr = AdaBoostClassifier(estimator = Lr)\n",
        "for training_index, testing_index in k_fold.split(X):  \n",
        "    X_train, X_test = X1.iloc[training_index,:], X1.iloc[testing_index,:]  \n",
        "    y_train, y_test = y1.iloc[training_index] , y1.iloc[testing_index]  \n",
        "    ada_dt.fit(X_train,y_train)\n",
        "    y_pred = ada_dt.predict(X_test)\n",
        "    acc = accuracy_score(y_pred , y_test)  \n",
        "    acc_scores.append(acc)  \n",
        "mean_acc_score = sum(acc_scores) / k  \n",
        "   \n",
        "print(\"Accuracy score of each fold: \", acc_scores)  \n",
        "print(\"Mean accuracy score: \", mean_acc_score)  "
      ],
      "metadata": {
        "colab": {
          "base_uri": "https://localhost:8080/"
        },
        "id": "sc5w9Nolquz8",
        "outputId": "e6d2112d-25af-4d3b-8b21-2f43c6b0087c"
      },
      "execution_count": null,
      "outputs": [
        {
          "output_type": "stream",
          "name": "stdout",
          "text": [
            "Accuracy score of each fold:  [0.9, 0.95, 1.0, 0.9, 0.85]\n",
            "Mean accuracy score:  0.9199999999999999\n"
          ]
        },
        {
          "output_type": "stream",
          "name": "stderr",
          "text": [
            "/usr/local/lib/python3.9/dist-packages/sklearn/utils/validation.py:1143: DataConversionWarning: A column-vector y was passed when a 1d array was expected. Please change the shape of y to (n_samples, ), for example using ravel().\n",
            "  y = column_or_1d(y, warn=True)\n",
            "/usr/local/lib/python3.9/dist-packages/sklearn/utils/validation.py:1143: DataConversionWarning: A column-vector y was passed when a 1d array was expected. Please change the shape of y to (n_samples, ), for example using ravel().\n",
            "  y = column_or_1d(y, warn=True)\n",
            "/usr/local/lib/python3.9/dist-packages/sklearn/utils/validation.py:1143: DataConversionWarning: A column-vector y was passed when a 1d array was expected. Please change the shape of y to (n_samples, ), for example using ravel().\n",
            "  y = column_or_1d(y, warn=True)\n",
            "/usr/local/lib/python3.9/dist-packages/sklearn/utils/validation.py:1143: DataConversionWarning: A column-vector y was passed when a 1d array was expected. Please change the shape of y to (n_samples, ), for example using ravel().\n",
            "  y = column_or_1d(y, warn=True)\n",
            "/usr/local/lib/python3.9/dist-packages/sklearn/utils/validation.py:1143: DataConversionWarning: A column-vector y was passed when a 1d array was expected. Please change the shape of y to (n_samples, ), for example using ravel().\n",
            "  y = column_or_1d(y, warn=True)\n"
          ]
        }
      ]
    },
    {
      "cell_type": "code",
      "source": [],
      "metadata": {
        "id": "AK9x0owDq3MT"
      },
      "execution_count": null,
      "outputs": []
    }
  ]
}